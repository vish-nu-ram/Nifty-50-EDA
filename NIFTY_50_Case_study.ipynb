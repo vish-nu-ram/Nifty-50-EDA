{
  "nbformat": 4,
  "nbformat_minor": 0,
  "metadata": {
    "colab": {
      "name": "NIFTY 50 Case study.ipynb",
      "provenance": [],
      "collapsed_sections": [],
      "toc_visible": true
    },
    "kernelspec": {
      "name": "python3",
      "display_name": "Python 3"
    }
  },
  "cells": [
    {
      "cell_type": "code",
      "metadata": {
        "id": "sr4ra8hvVtW2"
      },
      "source": [
        "import numpy as np\n",
        "import pandas as pd"
      ],
      "execution_count": 1,
      "outputs": []
    },
    {
      "cell_type": "markdown",
      "metadata": {
        "id": "Rg_HaRtTY-uH"
      },
      "source": [
        "#Import Data set\n",
        " Data downloaded from https://www.niftyindices.com/reports/historical-data"
      ]
    },
    {
      "cell_type": "code",
      "metadata": {
        "id": "3zYEZCXQWwC1"
      },
      "source": [
        "nifty50_2020 = pd.read_csv('NIFTY50_2020.csv', index_col= 0)\n",
        "nifty50_2021 = pd.read_csv('NIFTY50_2021.csv', index_col= 0)\n",
        "niftynext50 = pd.read_csv('NIFTY_Next50 _2019_21.csv', index_col= 0)"
      ],
      "execution_count": 2,
      "outputs": []
    },
    {
      "cell_type": "code",
      "metadata": {
        "id": "gW85MOBRW_8T",
        "colab": {
          "base_uri": "https://localhost:8080/",
          "height": 235
        },
        "outputId": "9357cb2c-99ee-45f1-f23d-ae975ceb80e0"
      },
      "source": [
        "nifty50 = pd.concat([nifty50_2020,nifty50_2021])\n",
        "nifty50.head()"
      ],
      "execution_count": 3,
      "outputs": [
        {
          "output_type": "execute_result",
          "data": {
            "text/html": [
              "<div>\n",
              "<style scoped>\n",
              "    .dataframe tbody tr th:only-of-type {\n",
              "        vertical-align: middle;\n",
              "    }\n",
              "\n",
              "    .dataframe tbody tr th {\n",
              "        vertical-align: top;\n",
              "    }\n",
              "\n",
              "    .dataframe thead th {\n",
              "        text-align: right;\n",
              "    }\n",
              "</style>\n",
              "<table border=\"1\" class=\"dataframe\">\n",
              "  <thead>\n",
              "    <tr style=\"text-align: right;\">\n",
              "      <th></th>\n",
              "      <th>Open</th>\n",
              "      <th>High</th>\n",
              "      <th>Low</th>\n",
              "      <th>Close</th>\n",
              "    </tr>\n",
              "    <tr>\n",
              "      <th>Date</th>\n",
              "      <th></th>\n",
              "      <th></th>\n",
              "      <th></th>\n",
              "      <th></th>\n",
              "    </tr>\n",
              "  </thead>\n",
              "  <tbody>\n",
              "    <tr>\n",
              "      <th>20 Feb 2020</th>\n",
              "      <td>12119.00</td>\n",
              "      <td>12152.00</td>\n",
              "      <td>12071.45</td>\n",
              "      <td>12080.85</td>\n",
              "    </tr>\n",
              "    <tr>\n",
              "      <th>19 Feb 2020</th>\n",
              "      <td>12090.60</td>\n",
              "      <td>12134.70</td>\n",
              "      <td>12042.10</td>\n",
              "      <td>12125.90</td>\n",
              "    </tr>\n",
              "    <tr>\n",
              "      <th>18 Feb 2020</th>\n",
              "      <td>12028.25</td>\n",
              "      <td>12030.75</td>\n",
              "      <td>11908.05</td>\n",
              "      <td>11992.50</td>\n",
              "    </tr>\n",
              "    <tr>\n",
              "      <th>17 Feb 2020</th>\n",
              "      <td>12131.80</td>\n",
              "      <td>12159.60</td>\n",
              "      <td>12037.00</td>\n",
              "      <td>12045.80</td>\n",
              "    </tr>\n",
              "    <tr>\n",
              "      <th>14 Feb 2020</th>\n",
              "      <td>12190.15</td>\n",
              "      <td>12246.70</td>\n",
              "      <td>12091.20</td>\n",
              "      <td>12113.45</td>\n",
              "    </tr>\n",
              "  </tbody>\n",
              "</table>\n",
              "</div>"
            ],
            "text/plain": [
              "                 Open      High       Low     Close\n",
              "Date                                               \n",
              "20 Feb 2020  12119.00  12152.00  12071.45  12080.85\n",
              "19 Feb 2020  12090.60  12134.70  12042.10  12125.90\n",
              "18 Feb 2020  12028.25  12030.75  11908.05  11992.50\n",
              "17 Feb 2020  12131.80  12159.60  12037.00  12045.80\n",
              "14 Feb 2020  12190.15  12246.70  12091.20  12113.45"
            ]
          },
          "metadata": {
            "tags": []
          },
          "execution_count": 3
        }
      ]
    },
    {
      "cell_type": "markdown",
      "metadata": {
        "id": "j_U93s1oahK9"
      },
      "source": [
        "#Number of days Nifty was volatile\n",
        "Calculation for volatility:\n",
        "i.e High of the day is > 105% of Low"
      ]
    },
    {
      "cell_type": "code",
      "metadata": {
        "id": "keqT6RB7aaPx"
      },
      "source": [
        "nifty50['Volatile'] = (nifty50['High']>(1.05* nifty50['Low']))\n",
        "niftynext50['Volatile'] = (niftynext50['High']>(1.05* niftynext50['Low']))"
      ],
      "execution_count": 4,
      "outputs": []
    },
    {
      "cell_type": "markdown",
      "metadata": {
        "id": "tNz2PUiAHkx1"
      },
      "source": [
        "Adding Nifty next 50 data to data frame"
      ]
    },
    {
      "cell_type": "code",
      "metadata": {
        "colab": {
          "base_uri": "https://localhost:8080/",
          "height": 235
        },
        "id": "FgZzOktNCPd2",
        "outputId": "7a6a607f-9383-43a1-f884-18a1e1ea2cb9"
      },
      "source": [
        "nifty50next50 = pd.concat([nifty50,niftynext50],axis=1, keys=['nifty50','niftynext50'])\n",
        "nifty50next50.head()"
      ],
      "execution_count": 5,
      "outputs": [
        {
          "output_type": "execute_result",
          "data": {
            "text/html": [
              "<div>\n",
              "<style scoped>\n",
              "    .dataframe tbody tr th:only-of-type {\n",
              "        vertical-align: middle;\n",
              "    }\n",
              "\n",
              "    .dataframe tbody tr th {\n",
              "        vertical-align: top;\n",
              "    }\n",
              "\n",
              "    .dataframe thead tr th {\n",
              "        text-align: left;\n",
              "    }\n",
              "</style>\n",
              "<table border=\"1\" class=\"dataframe\">\n",
              "  <thead>\n",
              "    <tr>\n",
              "      <th></th>\n",
              "      <th colspan=\"5\" halign=\"left\">nifty50</th>\n",
              "      <th colspan=\"5\" halign=\"left\">niftynext50</th>\n",
              "    </tr>\n",
              "    <tr>\n",
              "      <th></th>\n",
              "      <th>Open</th>\n",
              "      <th>High</th>\n",
              "      <th>Low</th>\n",
              "      <th>Close</th>\n",
              "      <th>Volatile</th>\n",
              "      <th>Open</th>\n",
              "      <th>High</th>\n",
              "      <th>Low</th>\n",
              "      <th>Close</th>\n",
              "      <th>Volatile</th>\n",
              "    </tr>\n",
              "  </thead>\n",
              "  <tbody>\n",
              "    <tr>\n",
              "      <th>20 Feb 2020</th>\n",
              "      <td>12119.00</td>\n",
              "      <td>12152.00</td>\n",
              "      <td>12071.45</td>\n",
              "      <td>12080.85</td>\n",
              "      <td>False</td>\n",
              "      <td>28632.20</td>\n",
              "      <td>28958.75</td>\n",
              "      <td>28627.55</td>\n",
              "      <td>28669.80</td>\n",
              "      <td>False</td>\n",
              "    </tr>\n",
              "    <tr>\n",
              "      <th>19 Feb 2020</th>\n",
              "      <td>12090.60</td>\n",
              "      <td>12134.70</td>\n",
              "      <td>12042.10</td>\n",
              "      <td>12125.90</td>\n",
              "      <td>False</td>\n",
              "      <td>28290.20</td>\n",
              "      <td>28643.35</td>\n",
              "      <td>28284.75</td>\n",
              "      <td>28630.75</td>\n",
              "      <td>False</td>\n",
              "    </tr>\n",
              "    <tr>\n",
              "      <th>18 Feb 2020</th>\n",
              "      <td>12028.25</td>\n",
              "      <td>12030.75</td>\n",
              "      <td>11908.05</td>\n",
              "      <td>11992.50</td>\n",
              "      <td>False</td>\n",
              "      <td>28116.45</td>\n",
              "      <td>28116.45</td>\n",
              "      <td>27750.75</td>\n",
              "      <td>28060.35</td>\n",
              "      <td>False</td>\n",
              "    </tr>\n",
              "    <tr>\n",
              "      <th>17 Feb 2020</th>\n",
              "      <td>12131.80</td>\n",
              "      <td>12159.60</td>\n",
              "      <td>12037.00</td>\n",
              "      <td>12045.80</td>\n",
              "      <td>False</td>\n",
              "      <td>28513.65</td>\n",
              "      <td>28572.75</td>\n",
              "      <td>28143.40</td>\n",
              "      <td>28169.60</td>\n",
              "      <td>False</td>\n",
              "    </tr>\n",
              "    <tr>\n",
              "      <th>14 Feb 2020</th>\n",
              "      <td>12190.15</td>\n",
              "      <td>12246.70</td>\n",
              "      <td>12091.20</td>\n",
              "      <td>12113.45</td>\n",
              "      <td>False</td>\n",
              "      <td>28790.40</td>\n",
              "      <td>28894.65</td>\n",
              "      <td>28453.50</td>\n",
              "      <td>28501.05</td>\n",
              "      <td>False</td>\n",
              "    </tr>\n",
              "  </tbody>\n",
              "</table>\n",
              "</div>"
            ],
            "text/plain": [
              "              nifty50                      ... niftynext50                   \n",
              "                 Open      High       Low  ...         Low     Close Volatile\n",
              "20 Feb 2020  12119.00  12152.00  12071.45  ...    28627.55  28669.80    False\n",
              "19 Feb 2020  12090.60  12134.70  12042.10  ...    28284.75  28630.75    False\n",
              "18 Feb 2020  12028.25  12030.75  11908.05  ...    27750.75  28060.35    False\n",
              "17 Feb 2020  12131.80  12159.60  12037.00  ...    28143.40  28169.60    False\n",
              "14 Feb 2020  12190.15  12246.70  12091.20  ...    28453.50  28501.05    False\n",
              "\n",
              "[5 rows x 10 columns]"
            ]
          },
          "metadata": {
            "tags": []
          },
          "execution_count": 5
        }
      ]
    },
    {
      "cell_type": "markdown",
      "metadata": {
        "id": "tL2dxITNHuta"
      },
      "source": [
        "Calculating Volatility across categories:\n",
        "- Nifty 50 Volatile\n",
        "- Nifty 50 Not Volatile\n",
        "- Nifty next 50 Volatile\n",
        "- Nifty next 50 Not volatile"
      ]
    },
    {
      "cell_type": "code",
      "metadata": {
        "colab": {
          "base_uri": "https://localhost:8080/"
        },
        "id": "eGECcz6TX5OT",
        "outputId": "a771310c-a2d6-49a2-ff13-75008b70cb84"
      },
      "source": [
        "Volatility = pd.Series([\n",
        "                (nifty50next50['nifty50']['Volatile'][(nifty50next50['nifty50']['Volatile'] == True)]).size,\n",
        "                (nifty50next50['nifty50']['Volatile'][(nifty50next50['nifty50']['Volatile'] == False)]).size,\n",
        "                (nifty50next50['niftynext50']['Volatile'][(nifty50next50['niftynext50']['Volatile'] == True)]).size ,\n",
        "                (nifty50next50['niftynext50']['Volatile'][(nifty50next50['niftynext50']['Volatile'] == False)]).size                \n",
        "                ],\n",
        "                index = ['Nifty 50 Volatile','Nifty50 Not Volatile','Nifty Next 50 Volatile','Nifty Next 50 Not Volatile']\n",
        "                )\n",
        "Volatility"
      ],
      "execution_count": 6,
      "outputs": [
        {
          "output_type": "execute_result",
          "data": {
            "text/plain": [
              "Nifty 50 Volatile              14\n",
              "Nifty50 Not Volatile          478\n",
              "Nifty Next 50 Volatile         16\n",
              "Nifty Next 50 Not Volatile    480\n",
              "dtype: int64"
            ]
          },
          "metadata": {
            "tags": []
          },
          "execution_count": 6
        }
      ]
    },
    {
      "cell_type": "markdown",
      "metadata": {
        "id": "2udNbB0sV53H"
      },
      "source": [
        "Date from string"
      ]
    },
    {
      "cell_type": "code",
      "metadata": {
        "colab": {
          "base_uri": "https://localhost:8080/",
          "height": 235
        },
        "id": "7npxsf_uXxVM",
        "outputId": "54ef431c-018a-4c8c-c6a8-34d4d8c298e1"
      },
      "source": [
        "nifty50.index = pd.to_datetime(nifty50.index)\n",
        "nifty50['Day']= nifty50.index.dayofweek\n",
        "nifty50['Day']= nifty50['Day'].replace(to_replace =[0,1,2,3,4,5,6],value = ['Mon','Tue','Wed','Thu','Fri','Sat','Sun'])\n",
        "nifty50.head()"
      ],
      "execution_count": 15,
      "outputs": [
        {
          "output_type": "execute_result",
          "data": {
            "text/html": [
              "<div>\n",
              "<style scoped>\n",
              "    .dataframe tbody tr th:only-of-type {\n",
              "        vertical-align: middle;\n",
              "    }\n",
              "\n",
              "    .dataframe tbody tr th {\n",
              "        vertical-align: top;\n",
              "    }\n",
              "\n",
              "    .dataframe thead th {\n",
              "        text-align: right;\n",
              "    }\n",
              "</style>\n",
              "<table border=\"1\" class=\"dataframe\">\n",
              "  <thead>\n",
              "    <tr style=\"text-align: right;\">\n",
              "      <th></th>\n",
              "      <th>Open</th>\n",
              "      <th>High</th>\n",
              "      <th>Low</th>\n",
              "      <th>Close</th>\n",
              "      <th>Volatile</th>\n",
              "      <th>Day</th>\n",
              "    </tr>\n",
              "    <tr>\n",
              "      <th>Date</th>\n",
              "      <th></th>\n",
              "      <th></th>\n",
              "      <th></th>\n",
              "      <th></th>\n",
              "      <th></th>\n",
              "      <th></th>\n",
              "    </tr>\n",
              "  </thead>\n",
              "  <tbody>\n",
              "    <tr>\n",
              "      <th>2020-02-20</th>\n",
              "      <td>12119.00</td>\n",
              "      <td>12152.00</td>\n",
              "      <td>12071.45</td>\n",
              "      <td>12080.85</td>\n",
              "      <td>False</td>\n",
              "      <td>Thu</td>\n",
              "    </tr>\n",
              "    <tr>\n",
              "      <th>2020-02-19</th>\n",
              "      <td>12090.60</td>\n",
              "      <td>12134.70</td>\n",
              "      <td>12042.10</td>\n",
              "      <td>12125.90</td>\n",
              "      <td>False</td>\n",
              "      <td>Wed</td>\n",
              "    </tr>\n",
              "    <tr>\n",
              "      <th>2020-02-18</th>\n",
              "      <td>12028.25</td>\n",
              "      <td>12030.75</td>\n",
              "      <td>11908.05</td>\n",
              "      <td>11992.50</td>\n",
              "      <td>False</td>\n",
              "      <td>Tue</td>\n",
              "    </tr>\n",
              "    <tr>\n",
              "      <th>2020-02-17</th>\n",
              "      <td>12131.80</td>\n",
              "      <td>12159.60</td>\n",
              "      <td>12037.00</td>\n",
              "      <td>12045.80</td>\n",
              "      <td>False</td>\n",
              "      <td>Mon</td>\n",
              "    </tr>\n",
              "    <tr>\n",
              "      <th>2020-02-14</th>\n",
              "      <td>12190.15</td>\n",
              "      <td>12246.70</td>\n",
              "      <td>12091.20</td>\n",
              "      <td>12113.45</td>\n",
              "      <td>False</td>\n",
              "      <td>Fri</td>\n",
              "    </tr>\n",
              "  </tbody>\n",
              "</table>\n",
              "</div>"
            ],
            "text/plain": [
              "                Open      High       Low     Close  Volatile  Day\n",
              "Date                                                             \n",
              "2020-02-20  12119.00  12152.00  12071.45  12080.85     False  Thu\n",
              "2020-02-19  12090.60  12134.70  12042.10  12125.90     False  Wed\n",
              "2020-02-18  12028.25  12030.75  11908.05  11992.50     False  Tue\n",
              "2020-02-17  12131.80  12159.60  12037.00  12045.80     False  Mon\n",
              "2020-02-14  12190.15  12246.70  12091.20  12113.45     False  Fri"
            ]
          },
          "metadata": {
            "tags": []
          },
          "execution_count": 15
        }
      ]
    },
    {
      "cell_type": "code",
      "metadata": {
        "colab": {
          "base_uri": "https://localhost:8080/",
          "height": 235
        },
        "id": "7Ep0nzWmg4je",
        "outputId": "fce04ce5-58f8-49e2-8ff6-9a4b94f6a2fc"
      },
      "source": [
        "nifty50['Month']= nifty50.index.month\n",
        "nifty50.head()"
      ],
      "execution_count": 22,
      "outputs": [
        {
          "output_type": "execute_result",
          "data": {
            "text/html": [
              "<div>\n",
              "<style scoped>\n",
              "    .dataframe tbody tr th:only-of-type {\n",
              "        vertical-align: middle;\n",
              "    }\n",
              "\n",
              "    .dataframe tbody tr th {\n",
              "        vertical-align: top;\n",
              "    }\n",
              "\n",
              "    .dataframe thead th {\n",
              "        text-align: right;\n",
              "    }\n",
              "</style>\n",
              "<table border=\"1\" class=\"dataframe\">\n",
              "  <thead>\n",
              "    <tr style=\"text-align: right;\">\n",
              "      <th></th>\n",
              "      <th>Open</th>\n",
              "      <th>High</th>\n",
              "      <th>Low</th>\n",
              "      <th>Close</th>\n",
              "      <th>Volatile</th>\n",
              "      <th>Day</th>\n",
              "      <th>Month</th>\n",
              "    </tr>\n",
              "    <tr>\n",
              "      <th>Date</th>\n",
              "      <th></th>\n",
              "      <th></th>\n",
              "      <th></th>\n",
              "      <th></th>\n",
              "      <th></th>\n",
              "      <th></th>\n",
              "      <th></th>\n",
              "    </tr>\n",
              "  </thead>\n",
              "  <tbody>\n",
              "    <tr>\n",
              "      <th>2020-02-20</th>\n",
              "      <td>12119.00</td>\n",
              "      <td>12152.00</td>\n",
              "      <td>12071.45</td>\n",
              "      <td>12080.85</td>\n",
              "      <td>False</td>\n",
              "      <td>Thu</td>\n",
              "      <td>2</td>\n",
              "    </tr>\n",
              "    <tr>\n",
              "      <th>2020-02-19</th>\n",
              "      <td>12090.60</td>\n",
              "      <td>12134.70</td>\n",
              "      <td>12042.10</td>\n",
              "      <td>12125.90</td>\n",
              "      <td>False</td>\n",
              "      <td>Wed</td>\n",
              "      <td>2</td>\n",
              "    </tr>\n",
              "    <tr>\n",
              "      <th>2020-02-18</th>\n",
              "      <td>12028.25</td>\n",
              "      <td>12030.75</td>\n",
              "      <td>11908.05</td>\n",
              "      <td>11992.50</td>\n",
              "      <td>False</td>\n",
              "      <td>Tue</td>\n",
              "      <td>2</td>\n",
              "    </tr>\n",
              "    <tr>\n",
              "      <th>2020-02-17</th>\n",
              "      <td>12131.80</td>\n",
              "      <td>12159.60</td>\n",
              "      <td>12037.00</td>\n",
              "      <td>12045.80</td>\n",
              "      <td>False</td>\n",
              "      <td>Mon</td>\n",
              "      <td>2</td>\n",
              "    </tr>\n",
              "    <tr>\n",
              "      <th>2020-02-14</th>\n",
              "      <td>12190.15</td>\n",
              "      <td>12246.70</td>\n",
              "      <td>12091.20</td>\n",
              "      <td>12113.45</td>\n",
              "      <td>False</td>\n",
              "      <td>Fri</td>\n",
              "      <td>2</td>\n",
              "    </tr>\n",
              "  </tbody>\n",
              "</table>\n",
              "</div>"
            ],
            "text/plain": [
              "                Open      High       Low     Close  Volatile  Day  Month\n",
              "Date                                                                    \n",
              "2020-02-20  12119.00  12152.00  12071.45  12080.85     False  Thu      2\n",
              "2020-02-19  12090.60  12134.70  12042.10  12125.90     False  Wed      2\n",
              "2020-02-18  12028.25  12030.75  11908.05  11992.50     False  Tue      2\n",
              "2020-02-17  12131.80  12159.60  12037.00  12045.80     False  Mon      2\n",
              "2020-02-14  12190.15  12246.70  12091.20  12113.45     False  Fri      2"
            ]
          },
          "metadata": {
            "tags": []
          },
          "execution_count": 22
        }
      ]
    },
    {
      "cell_type": "code",
      "metadata": {
        "colab": {
          "base_uri": "https://localhost:8080/",
          "height": 235
        },
        "id": "HvJFi34ClhkD",
        "outputId": "2af2e70a-1d28-4003-b5d7-8c076b24761c"
      },
      "source": [
        "nifty50['Year']= nifty50.index.year\n",
        "nifty50.head()"
      ],
      "execution_count": 33,
      "outputs": [
        {
          "output_type": "execute_result",
          "data": {
            "text/html": [
              "<div>\n",
              "<style scoped>\n",
              "    .dataframe tbody tr th:only-of-type {\n",
              "        vertical-align: middle;\n",
              "    }\n",
              "\n",
              "    .dataframe tbody tr th {\n",
              "        vertical-align: top;\n",
              "    }\n",
              "\n",
              "    .dataframe thead th {\n",
              "        text-align: right;\n",
              "    }\n",
              "</style>\n",
              "<table border=\"1\" class=\"dataframe\">\n",
              "  <thead>\n",
              "    <tr style=\"text-align: right;\">\n",
              "      <th></th>\n",
              "      <th>Open</th>\n",
              "      <th>High</th>\n",
              "      <th>Low</th>\n",
              "      <th>Close</th>\n",
              "      <th>Volatile</th>\n",
              "      <th>Day</th>\n",
              "      <th>Month</th>\n",
              "      <th>Year</th>\n",
              "    </tr>\n",
              "    <tr>\n",
              "      <th>Date</th>\n",
              "      <th></th>\n",
              "      <th></th>\n",
              "      <th></th>\n",
              "      <th></th>\n",
              "      <th></th>\n",
              "      <th></th>\n",
              "      <th></th>\n",
              "      <th></th>\n",
              "    </tr>\n",
              "  </thead>\n",
              "  <tbody>\n",
              "    <tr>\n",
              "      <th>2020-02-20</th>\n",
              "      <td>12119.00</td>\n",
              "      <td>12152.00</td>\n",
              "      <td>12071.45</td>\n",
              "      <td>12080.85</td>\n",
              "      <td>False</td>\n",
              "      <td>Thu</td>\n",
              "      <td>2</td>\n",
              "      <td>2020</td>\n",
              "    </tr>\n",
              "    <tr>\n",
              "      <th>2020-02-19</th>\n",
              "      <td>12090.60</td>\n",
              "      <td>12134.70</td>\n",
              "      <td>12042.10</td>\n",
              "      <td>12125.90</td>\n",
              "      <td>False</td>\n",
              "      <td>Wed</td>\n",
              "      <td>2</td>\n",
              "      <td>2020</td>\n",
              "    </tr>\n",
              "    <tr>\n",
              "      <th>2020-02-18</th>\n",
              "      <td>12028.25</td>\n",
              "      <td>12030.75</td>\n",
              "      <td>11908.05</td>\n",
              "      <td>11992.50</td>\n",
              "      <td>False</td>\n",
              "      <td>Tue</td>\n",
              "      <td>2</td>\n",
              "      <td>2020</td>\n",
              "    </tr>\n",
              "    <tr>\n",
              "      <th>2020-02-17</th>\n",
              "      <td>12131.80</td>\n",
              "      <td>12159.60</td>\n",
              "      <td>12037.00</td>\n",
              "      <td>12045.80</td>\n",
              "      <td>False</td>\n",
              "      <td>Mon</td>\n",
              "      <td>2</td>\n",
              "      <td>2020</td>\n",
              "    </tr>\n",
              "    <tr>\n",
              "      <th>2020-02-14</th>\n",
              "      <td>12190.15</td>\n",
              "      <td>12246.70</td>\n",
              "      <td>12091.20</td>\n",
              "      <td>12113.45</td>\n",
              "      <td>False</td>\n",
              "      <td>Fri</td>\n",
              "      <td>2</td>\n",
              "      <td>2020</td>\n",
              "    </tr>\n",
              "  </tbody>\n",
              "</table>\n",
              "</div>"
            ],
            "text/plain": [
              "                Open      High       Low     Close  Volatile  Day  Month  Year\n",
              "Date                                                                          \n",
              "2020-02-20  12119.00  12152.00  12071.45  12080.85     False  Thu      2  2020\n",
              "2020-02-19  12090.60  12134.70  12042.10  12125.90     False  Wed      2  2020\n",
              "2020-02-18  12028.25  12030.75  11908.05  11992.50     False  Tue      2  2020\n",
              "2020-02-17  12131.80  12159.60  12037.00  12045.80     False  Mon      2  2020\n",
              "2020-02-14  12190.15  12246.70  12091.20  12113.45     False  Fri      2  2020"
            ]
          },
          "metadata": {
            "tags": []
          },
          "execution_count": 33
        }
      ]
    },
    {
      "cell_type": "markdown",
      "metadata": {
        "id": "BmO2_XEKThxY"
      },
      "source": [
        "# Compute Statistics \n",
        "i.e Mean,Median,Std etc."
      ]
    },
    {
      "cell_type": "markdown",
      "metadata": {
        "id": "HW0Ux5d6f1HS"
      },
      "source": [
        "Mean, Median, Std of Closing values my weekday"
      ]
    },
    {
      "cell_type": "code",
      "metadata": {
        "id": "r_JSB8iDR82G",
        "colab": {
          "base_uri": "https://localhost:8080/"
        },
        "outputId": "9b53329b-2acb-48ab-93e5-e4dfc3f97904"
      },
      "source": [
        "nifty50.groupby('Day')['Close'].mean()"
      ],
      "execution_count": 8,
      "outputs": [
        {
          "output_type": "execute_result",
          "data": {
            "text/plain": [
              "Day\n",
              "Fri    11586.594898\n",
              "Mon    11512.454301\n",
              "Sat    12221.050000\n",
              "Sun    11627.150000\n",
              "Thu    11592.050495\n",
              "Tue    11555.597959\n",
              "Wed    11539.017677\n",
              "Name: Close, dtype: float64"
            ]
          },
          "metadata": {
            "tags": []
          },
          "execution_count": 8
        }
      ]
    },
    {
      "cell_type": "code",
      "metadata": {
        "id": "nnLvYkTWSBMB",
        "colab": {
          "base_uri": "https://localhost:8080/"
        },
        "outputId": "85c25787-7ad4-433f-eb54-7571c490d69a"
      },
      "source": [
        "nifty50.groupby('Day')['Close'].median()"
      ],
      "execution_count": 9,
      "outputs": [
        {
          "output_type": "execute_result",
          "data": {
            "text/plain": [
              "Day\n",
              "Fri    11603.900\n",
              "Mon    11588.350\n",
              "Sat    12221.050\n",
              "Sun    11627.150\n",
              "Thu    11596.700\n",
              "Tue    11588.275\n",
              "Wed    11549.600\n",
              "Name: Close, dtype: float64"
            ]
          },
          "metadata": {
            "tags": []
          },
          "execution_count": 9
        }
      ]
    },
    {
      "cell_type": "code",
      "metadata": {
        "colab": {
          "base_uri": "https://localhost:8080/"
        },
        "id": "ohOmUz3JgLc_",
        "outputId": "e515fa30-a12a-4337-fb59-128e0ae578ff"
      },
      "source": [
        "nifty50.groupby('Day')['Close'].std()"
      ],
      "execution_count": 13,
      "outputs": [
        {
          "output_type": "execute_result",
          "data": {
            "text/plain": [
              "Day\n",
              "Fri    1328.411168\n",
              "Mon    1327.542079\n",
              "Sat     790.828224\n",
              "Sun            NaN\n",
              "Thu    1349.942100\n",
              "Tue    1364.347889\n",
              "Wed    1405.049324\n",
              "Name: Close, dtype: float64"
            ]
          },
          "metadata": {
            "tags": []
          },
          "execution_count": 13
        }
      ]
    },
    {
      "cell_type": "code",
      "metadata": {
        "id": "5y3QFAeVgjTO"
      },
      "source": [
        ""
      ],
      "execution_count": null,
      "outputs": []
    },
    {
      "cell_type": "markdown",
      "metadata": {
        "id": "492TSWrNhcnU"
      },
      "source": [
        "Mean, Median, Std by month"
      ]
    },
    {
      "cell_type": "code",
      "metadata": {
        "colab": {
          "base_uri": "https://localhost:8080/"
        },
        "id": "skLda4lghf9M",
        "outputId": "4799df5d-0696-4ca9-b21a-9a3c0e64598b"
      },
      "source": [
        "print(nifty50.groupby('Month')['Close'].mean())\n",
        "print(nifty50.groupby('Month')['Close'].median())\n",
        "print(nifty50.groupby('Month')['Close'].std())"
      ],
      "execution_count": 26,
      "outputs": [
        {
          "output_type": "stream",
          "text": [
            "Month\n",
            "1     13160.524419\n",
            "2     12958.619737\n",
            "3     10324.503750\n",
            "4     10400.191892\n",
            "5     10479.823171\n",
            "6     10914.718293\n",
            "7     11210.403261\n",
            "8     11151.704878\n",
            "9     11238.267073\n",
            "10    11643.609756\n",
            "11    12283.227500\n",
            "12    12840.562791\n",
            "Name: Close, dtype: float64\n",
            "Month\n",
            "1     12355.500\n",
            "2     12110.675\n",
            "3     11044.200\n",
            "4     11575.950\n",
            "5     11157.000\n",
            "6     10383.000\n",
            "7     11198.500\n",
            "8     11101.650\n",
            "9     11274.200\n",
            "10    11662.400\n",
            "11    12064.900\n",
            "12    13109.050\n",
            "Name: Close, dtype: float64\n",
            "Month\n",
            "1     1080.965385\n",
            "2     1652.533238\n",
            "3     1320.026314\n",
            "4     1351.092051\n",
            "5     1234.779180\n",
            "6      883.974090\n",
            "7      405.685797\n",
            "8      223.308798\n",
            "9      273.112900\n",
            "10     238.859779\n",
            "11     440.404312\n",
            "12     765.228002\n",
            "Name: Close, dtype: float64\n"
          ],
          "name": "stdout"
        }
      ]
    },
    {
      "cell_type": "markdown",
      "metadata": {
        "id": "tEQ4zWnUi5ZD"
      },
      "source": [
        "On days that NIFTY closed higher than it opened, find Mean of (Close - Open)"
      ]
    },
    {
      "cell_type": "code",
      "metadata": {
        "colab": {
          "base_uri": "https://localhost:8080/"
        },
        "id": "ql8mLrskhlPa",
        "outputId": "b45c57ef-386f-4c2c-da1f-fbe53287e424"
      },
      "source": [
        "df = nifty50[nifty50.Close>nifty50.Open]\n",
        "(df['Close']-df['Open']).mean()"
      ],
      "execution_count": 32,
      "outputs": [
        {
          "output_type": "execute_result",
          "data": {
            "text/plain": [
              "77.1183406113537"
            ]
          },
          "metadata": {
            "tags": []
          },
          "execution_count": 32
        }
      ]
    },
    {
      "cell_type": "markdown",
      "metadata": {
        "id": "dfsEYyE1jGfw"
      },
      "source": [
        "In the last year (2020) , how many days had high lower than previous days low"
      ]
    },
    {
      "cell_type": "code",
      "metadata": {
        "id": "eXh9DibejWCz"
      },
      "source": [
        "df = nifty50[nifty50.Year == 2020]\n"
      ],
      "execution_count": 36,
      "outputs": []
    },
    {
      "cell_type": "markdown",
      "metadata": {
        "id": "S2EhV-rBjXJF"
      },
      "source": [
        "How many days did the days Close exceed the 30 day moving average in NIFTY 50"
      ]
    },
    {
      "cell_type": "code",
      "metadata": {
        "id": "xOe9QYWGjex2"
      },
      "source": [
        ""
      ],
      "execution_count": null,
      "outputs": []
    }
  ]
}